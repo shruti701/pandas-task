{
 "cells": [
  {
   "cell_type": "markdown",
   "id": "6966c58f-4d44-48b2-acb5-d4ae8c6592b7",
   "metadata": {},
   "source": [
    "# NumPy Arrays"
   ]
  },
  {
   "cell_type": "code",
   "execution_count": 1,
   "id": "7791a8b5-31fa-41ed-85da-e2a48a221273",
   "metadata": {},
   "outputs": [],
   "source": [
    "import numpy as np"
   ]
  },
  {
   "cell_type": "code",
   "execution_count": 2,
   "id": "7d80e3b3-22b3-49d3-8cfe-3bb5b7d0ccf8",
   "metadata": {},
   "outputs": [
    {
     "data": {
      "text/plain": [
       "[1, 2, 3, 4]"
      ]
     },
     "execution_count": 2,
     "metadata": {},
     "output_type": "execute_result"
    }
   ],
   "source": [
    "lst = [1,2,3,4]\n",
    "a1=np.array(lst)\n",
    "lst"
   ]
  },
  {
   "cell_type": "code",
   "execution_count": 3,
   "id": "1d16c62c-6b95-48ab-b869-9a6d68572a1d",
   "metadata": {},
   "outputs": [
    {
     "name": "stdout",
     "output_type": "stream",
     "text": [
      "[1 2 3 4]\n"
     ]
    }
   ],
   "source": [
    "print(a1)"
   ]
  },
  {
   "cell_type": "code",
   "execution_count": null,
   "id": "b3d2364d-07c6-4eae-a1b4-9f2e53a5ccbb",
   "metadata": {},
   "outputs": [],
   "source": [
    "a1"
   ]
  },
  {
   "cell_type": "code",
   "execution_count": null,
   "id": "620af394-fbcf-43df-8872-2d917a11d9f4",
   "metadata": {},
   "outputs": [],
   "source": [
    "lst = [1,2,3,4]\n",
    "a1=np.array(lst)\n",
    "lst+2\n",
    "# in list,it will generate error but will be executed in arrays."
   ]
  },
  {
   "cell_type": "code",
   "execution_count": null,
   "id": "8ee71142-43a0-41aa-bc15-72fb1049b210",
   "metadata": {},
   "outputs": [],
   "source": [
    "a1+2"
   ]
  },
  {
   "cell_type": "markdown",
   "id": "171172a4-2675-44b4-8286-15ce7081fcfd",
   "metadata": {},
   "source": [
    "# Ways to create NumPy Arrays"
   ]
  },
  {
   "cell_type": "markdown",
   "id": "f0777d83-4700-4822-923c-457dd117bc7b",
   "metadata": {},
   "source": [
    "## 1. array()function can be used to create array-"
   ]
  },
  {
   "cell_type": "code",
   "execution_count": null,
   "id": "05474f46-f908-40ef-947e-40a12ceb8b25",
   "metadata": {},
   "outputs": [],
   "source": [
    "narl=np.array([2,5.2,1.0])\n",
    "narl"
   ]
  },
  {
   "cell_type": "markdown",
   "id": "f30c3ca4-7f09-48ca-b32e-6fe03f87394d",
   "metadata": {},
   "source": [
    "### creating array by specifying own datatype-"
   ]
  },
  {
   "cell_type": "code",
   "execution_count": null,
   "id": "5a0086cb-3850-4e1e-9cc4-5e30dca2b32e",
   "metadata": {},
   "outputs": [],
   "source": [
    "l=[1,2,3,4]\n",
    "ar=np.array(l,dtype=np.int64)\n",
    "ar"
   ]
  },
  {
   "cell_type": "markdown",
   "id": "5273edc6-6444-49d5-b52f-54fe8036722c",
   "metadata": {},
   "source": [
    "### To check type,dtype and size-"
   ]
  },
  {
   "cell_type": "code",
   "execution_count": null,
   "id": "f6357355-e1a2-48d0-a9ae-3d7542611400",
   "metadata": {},
   "outputs": [],
   "source": [
    "l=[1,2,3,4]\n",
    "ar=np.array(l,dtype=np.int64)\n",
    "ar"
   ]
  },
  {
   "cell_type": "code",
   "execution_count": null,
   "id": "f939dab9-86d0-485f-9317-19887066bf60",
   "metadata": {},
   "outputs": [],
   "source": [
    "print(type(ar))"
   ]
  },
  {
   "cell_type": "markdown",
   "id": "05e71f2a-f2c0-4aa8-9959-16c057b2de24",
   "metadata": {},
   "source": [
    "print(ar.dtype)"
   ]
  },
  {
   "cell_type": "code",
   "execution_count": null,
   "id": "eb32085a-3fd1-44a6-a0ef-ddb4b7ad6dad",
   "metadata": {},
   "outputs": [],
   "source": [
    "print(ar.itemsize)"
   ]
  },
  {
   "cell_type": "code",
   "execution_count": null,
   "id": "8ca1aa10-53d7-4df3-9631-7d272d0181f9",
   "metadata": {},
   "outputs": [],
   "source": [
    "ad={1:\"A\",2:\"B\",3:\"C\",4:\"D\",5:\"E\"}\n",
    "ar2=np.fromiter(ad,dtype=np.int32)\n",
    "print(ar2)"
   ]
  },
  {
   "cell_type": "markdown",
   "id": "dd28b331-0d87-4a47-a4b9-b10f26504477",
   "metadata": {},
   "source": [
    "### 2. Creating Array By Specific Own  Datatype"
   ]
  },
  {
   "cell_type": "code",
   "execution_count": null,
   "id": "b5e8f481-0f86-42e5-8eb1-3da02d1d5822",
   "metadata": {},
   "outputs": [],
   "source": [
    "ar2.dtype"
   ]
  },
  {
   "cell_type": "code",
   "execution_count": null,
   "id": "d41522d9-ff01-4821-ad3f-3d91f602e5bd",
   "metadata": {},
   "outputs": [],
   "source": [
    "ar2.itemsize"
   ]
  },
  {
   "cell_type": "code",
   "execution_count": null,
   "id": "14560d6a-787b-49fc-96aa-2238aaae2d85",
   "metadata": {},
   "outputs": [],
   "source": [
    "print(ar2[0],[3])"
   ]
  },
  {
   "cell_type": "code",
   "execution_count": null,
   "id": "d1dc5751-458f-4846-a0a7-5935794cb830",
   "metadata": {},
   "outputs": [],
   "source": [
    "ar2[0]"
   ]
  },
  {
   "cell_type": "markdown",
   "id": "0fc8fae8-eccc-4a20-b65a-28f26fdbc5b1",
   "metadata": {},
   "source": [
    "### 3.Arrange() function is used to create array from a range."
   ]
  },
  {
   "cell_type": "code",
   "execution_count": null,
   "id": "1a5051ad-d880-475b-b284-8959b9bde3a1",
   "metadata": {},
   "outputs": [],
   "source": [
    "# <arrayname>=numpy.arrange([start],stop,[step],[dtype])"
   ]
  },
  {
   "cell_type": "code",
   "execution_count": null,
   "id": "be054211-1a5d-491d-9670-e21deb1fbfef",
   "metadata": {},
   "outputs": [],
   "source": [
    "arr1=np.arange(5)\n",
    "arr1"
   ]
  },
  {
   "cell_type": "code",
   "execution_count": null,
   "id": "d69d6f54-6ff8-446b-b6d1-c0809fe96097",
   "metadata": {},
   "outputs": [],
   "source": [
    "arr2=np.arange(1,7,2,dtype=np.float32)\n",
    "arr2"
   ]
  },
  {
   "cell_type": "markdown",
   "id": "f4d93f66-157f-4d62-b18c-daace575cfae",
   "metadata": {},
   "source": [
    "### 4.Linespace()function can be used to prepare array of range."
   ]
  },
  {
   "cell_type": "code",
   "execution_count": null,
   "id": "cf2e137f-eb93-41da-90ce-fc725d0954de",
   "metadata": {},
   "outputs": [],
   "source": [
    "#arrayname>=numpy.linespace([start],stop,[dtype])"
   ]
  },
  {
   "cell_type": "code",
   "execution_count": null,
   "id": "7395f1d3-2ffb-4e2d-af65-28fc225a285c",
   "metadata": {},
   "outputs": [],
   "source": [
    "arr3 = np.linspace(2,3,6)\n",
    "arr3\n",
    "# here,an array of 6 values is created between the value 2 and 3"
   ]
  },
  {
   "cell_type": "code",
   "execution_count": null,
   "id": "25df2f8e-5a5c-4220-b1e5-415721b0a01f",
   "metadata": {},
   "outputs": [],
   "source": [
    "arr4 = np.linspace(2,5,5,8)\n",
    "arr4"
   ]
  },
  {
   "cell_type": "markdown",
   "id": "3c6b36b6-0d18-41bc-bd33-f6386f560e59",
   "metadata": {},
   "source": [
    "# 2D NumPy Arrays"
   ]
  },
  {
   "cell_type": "code",
   "execution_count": null,
   "id": "c29e02db-6e18-42db-a8e3-b7bc639382e1",
   "metadata": {},
   "outputs": [],
   "source": [
    "A=np.array([[10,11,12,13],[21,22,23,24]]) # with the help of list,2D array is created\n",
    "A[1,3] # Accesing Array elements with index"
   ]
  },
  {
   "cell_type": "code",
   "execution_count": null,
   "id": "4b88492e-637a-4ebd-85d9-f2f28c14aa53",
   "metadata": {},
   "outputs": [],
   "source": [
    "A[1][3]# Accesing Array elements with index"
   ]
  },
  {
   "cell_type": "code",
   "execution_count": null,
   "id": "d67f37b2-2d08-4f64-b780-310f24e20b88",
   "metadata": {},
   "outputs": [],
   "source": [
    "A # PRINTING ARRAYS"
   ]
  },
  {
   "cell_type": "code",
   "execution_count": null,
   "id": "3c56d8ba-faf3-49d5-a365-a6b3527f9103",
   "metadata": {},
   "outputs": [],
   "source": [
    "print(A)# PRINTING ARRAYS"
   ]
  },
  {
   "cell_type": "code",
   "execution_count": null,
   "id": "cf3e3f64-b863-4ed2-9ecd-a8cc8c3f651b",
   "metadata": {},
   "outputs": [],
   "source": [
    "type(A),type(a1)"
   ]
  },
  {
   "cell_type": "code",
   "execution_count": null,
   "id": "eb403075-7653-478d-85ed-1ffae1aff4ce",
   "metadata": {},
   "outputs": [],
   "source": [
    "a1.shape"
   ]
  },
  {
   "cell_type": "code",
   "execution_count": null,
   "id": "ebb3f534-c6d9-48d6-914e-8153c711b0ee",
   "metadata": {},
   "outputs": [],
   "source": [
    "A.shape"
   ]
  },
  {
   "cell_type": "code",
   "execution_count": null,
   "id": "c9ee484d-7085-4b46-9652-a48d565d5cad",
   "metadata": {},
   "outputs": [],
   "source": [
    "A.itemsize"
   ]
  },
  {
   "cell_type": "markdown",
   "id": "c6ec4b48-3e2f-459f-91bb-80252d38a964",
   "metadata": {},
   "source": [
    "## 2. Creating 2D ndarray using arrange()-"
   ]
  },
  {
   "cell_type": "markdown",
   "id": "4beae696-5091-4abc-acf3-4ef263c8d995",
   "metadata": {},
   "source": [
    "#### in similar manner as we have to created 1D ndarryas with arrange() function,we can also create 2D ndarrays arrange()function along with reshape()."
   ]
  },
  {
   "cell_type": "code",
   "execution_count": null,
   "id": "fb9ff5f1-9264-4759-8ed0-881bc1babf3e",
   "metadata": {},
   "outputs": [],
   "source": [
    "# <ndarray>.reshape(<shape tuple>)"
   ]
  },
  {
   "cell_type": "code",
   "execution_count": null,
   "id": "7294ee0c-f3ff-49c4-a69e-6724854b1201",
   "metadata": {},
   "outputs": [],
   "source": [
    "ar1=np.arange(10)\n",
    "ar1"
   ]
  },
  {
   "cell_type": "markdown",
   "id": "f3507eda-fb7d-4e00-8f5c-61ca19020b0c",
   "metadata": {},
   "source": [
    "ar3=ar1.reshape(5,2)\n",
    "ar3"
   ]
  },
  {
   "cell_type": "code",
   "execution_count": null,
   "id": "f3710d65-5cdf-44ce-9536-dd44c238dd55",
   "metadata": {},
   "outputs": [],
   "source": [
    "arr1=np.empty([2,3],dtype=np.int64,order='c')\n",
    "arr1"
   ]
  },
  {
   "cell_type": "code",
   "execution_count": null,
   "id": "e2f58e59-d276-4357-a58d-3761858db693",
   "metadata": {},
   "outputs": [],
   "source": [
    "arr1=np.empty([2,3],dtype=np.int64,order='F')\n",
    "arr1"
   ]
  },
  {
   "cell_type": "markdown",
   "id": "d261597c-b504-49ad-87f5-c75d16a335ab",
   "metadata": {},
   "source": [
    "### Array Slicing"
   ]
  },
  {
   "cell_type": "markdown",
   "id": "7687d6b9-6543-4b1d-9156-dd9557d585f9",
   "metadata": {},
   "source": [
    "#### it is possible to extract subset of numpy arrays using slices,just like lists"
   ]
  },
  {
   "cell_type": "code",
   "execution_count": 25,
   "id": "8f2b8798-2bd2-430e-94c8-03edf48a4bec",
   "metadata": {},
   "outputs": [
    {
     "data": {
      "text/plain": [
       "array([ 8, 10, 12, 14])"
      ]
     },
     "execution_count": 25,
     "metadata": {},
     "output_type": "execute_result"
    }
   ],
   "source": [
    "arr=np.array([2,4,6,8,10,12,14,16])\n",
    "arr[3:7]"
   ]
  },
  {
   "cell_type": "code",
   "execution_count": 26,
   "id": "d83304ea-ff64-4621-a91e-6c03f09b9ad4",
   "metadata": {},
   "outputs": [
    {
     "data": {
      "text/plain": [
       "array([ 8, 10, 12, 14])"
      ]
     },
     "execution_count": 26,
     "metadata": {},
     "output_type": "execute_result"
    }
   ],
   "source": [
    "arr[3:7]"
   ]
  },
  {
   "cell_type": "code",
   "execution_count": 27,
   "id": "5a531967-ebd1-41bb-b86d-c7fd7f5a6ba0",
   "metadata": {},
   "outputs": [
    {
     "data": {
      "text/plain": [
       "array([ 2,  4,  6,  8, 10])"
      ]
     },
     "execution_count": 27,
     "metadata": {},
     "output_type": "execute_result"
    }
   ],
   "source": [
    "arr[:5]"
   ]
  },
  {
   "cell_type": "code",
   "execution_count": 28,
   "id": "819a456b-ffe0-4795-8dea-ec214b1e5a80",
   "metadata": {},
   "outputs": [
    {
     "data": {
      "text/plain": [
       "array([2, 4, 6, 8])"
      ]
     },
     "execution_count": 28,
     "metadata": {},
     "output_type": "execute_result"
    }
   ],
   "source": [
    "arr[:4]"
   ]
  },
  {
   "cell_type": "code",
   "execution_count": 29,
   "id": "46902434-f3bc-40bd-9da0-dbc8939e8063",
   "metadata": {},
   "outputs": [
    {
     "data": {
      "text/plain": [
       "array([ 2,  4,  6,  8, 10, 12, 14])"
      ]
     },
     "execution_count": 29,
     "metadata": {},
     "output_type": "execute_result"
    }
   ],
   "source": [
    "arr[:-1]"
   ]
  },
  {
   "cell_type": "code",
   "execution_count": null,
   "id": "1e6494d2-5fd7-4fdc-af95-56ae5c3fe8c3",
   "metadata": {},
   "outputs": [],
   "source": [
    "arr[-1:]"
   ]
  },
  {
   "cell_type": "code",
   "execution_count": null,
   "id": "1c4fd754-9b72-4993-b698-9b9b3b6a6a14",
   "metadata": {},
   "outputs": [],
   "source": [
    "arr[2:7:2]"
   ]
  },
  {
   "cell_type": "markdown",
   "id": "d791f5b5-4be9-43bc-b5f4-81d107227088",
   "metadata": {},
   "source": [
    "### Joining or Concatentenating Numpy Arrays-"
   ]
  },
  {
   "cell_type": "markdown",
   "id": "afa60328-0e4d-46f0-86bc-e39c81be01e0",
   "metadata": {},
   "source": [
    "#### for joining or concatenting of two or more existing ndarrays, python provides following functions-\n",
    "1) hstack() and vstack()\n",
    "2) concatenate()"
   ]
  },
  {
   "cell_type": "code",
   "execution_count": null,
   "id": "887f89bc-c0a1-4824-bc0f-7de0ab4bbc99",
   "metadata": {},
   "outputs": [],
   "source": [
    "list1=[1,2,3,4,5]\n",
    "list2=[6,7,8,9,10]\n",
    "a1=np.array(list1)\n",
    "a1"
   ]
  },
  {
   "cell_type": "code",
   "execution_count": null,
   "id": "d96125b0-25fb-4a32-8295-dd23458eb43e",
   "metadata": {},
   "outputs": [],
   "source": [
    "a2=np.array(list2)\n",
    "a2"
   ]
  },
  {
   "cell_type": "code",
   "execution_count": null,
   "id": "b76dc6a9-f354-4178-a83e-88332080ee40",
   "metadata": {},
   "outputs": [],
   "source": [
    "jion1=np.hstack((a1,a2))\n",
    "jion1\n",
    "#hstack method"
   ]
  },
  {
   "cell_type": "code",
   "execution_count": null,
   "id": "ecb140bb-cc05-4590-80cd-10f563570c74",
   "metadata": {},
   "outputs": [],
   "source": [
    "jion2=np.vstack((a1,a2))\n",
    "jion2\n",
    "# vstack method"
   ]
  },
  {
   "cell_type": "markdown",
   "id": "04541b17-0229-4c28-a2fc-21458d8cb20f",
   "metadata": {},
   "source": [
    "## Combibing Existing Arrays Using Concatetenate()-\n",
    "\n"
   ]
  },
  {
   "cell_type": "code",
   "execution_count": null,
   "id": "87df46b4-4fa5-4748-bb85-f4dc4163b3cf",
   "metadata": {},
   "outputs": [],
   "source": [
    "a1=np.array([1,2,3,4,5,6,7,8,9]).reshape(3,3)\n",
    "a1\n"
   ]
  },
  {
   "cell_type": "code",
   "execution_count": null,
   "id": "827a8dc8-1c44-4512-83c0-350d51b08001",
   "metadata": {},
   "outputs": [],
   "source": [
    "a2=np.array([1,2,3,4,5,6]).reshape(2,3)\n",
    "a2\n"
   ]
  },
  {
   "cell_type": "code",
   "execution_count": null,
   "id": "e51ddca9-3d5e-4d00-b905-b19ea3ccf183",
   "metadata": {},
   "outputs": [],
   "source": [
    "a3=np.array([1,2,3,4,5,6]).reshape(3,2)\n",
    "a3\n"
   ]
  },
  {
   "cell_type": "code",
   "execution_count": null,
   "id": "39310ee6-51f9-4a8b-b746-8c6aa2c71657",
   "metadata": {},
   "outputs": [],
   "source": [
    "a4=np.array([1,2,3]).reshape(3,1)\n",
    "a4\n"
   ]
  },
  {
   "cell_type": "code",
   "execution_count": null,
   "id": "dde90829-6278-498d-a967-f040a3b1f70d",
   "metadata": {},
   "outputs": [],
   "source": [
    "j1=np.concatenate((a1,a2),axis=0)\n",
    "j1"
   ]
  },
  {
   "cell_type": "code",
   "execution_count": null,
   "id": "531017c4-2eb5-4f5e-9973-b5a36ed162fa",
   "metadata": {},
   "outputs": [],
   "source": [
    "j2=np.concatenate((a1,a3),axis=1)\n",
    "j2"
   ]
  },
  {
   "cell_type": "code",
   "execution_count": null,
   "id": "705ecfc7-f8b8-446d-8241-65e47d0f1536",
   "metadata": {},
   "outputs": [],
   "source": [
    "j3=np.concatenate((a1,a4),axis=1)\n",
    "j3"
   ]
  },
  {
   "cell_type": "markdown",
   "id": "78eaa9e5-f6c6-4098-b81d-01a1243feb04",
   "metadata": {},
   "source": [
    "## obating subset of array"
   ]
  },
  {
   "cell_type": "code",
   "execution_count": null,
   "id": "971fc123-f59a-4bb8-88bf-e5f55e343e47",
   "metadata": {},
   "outputs": [],
   "source": [
    "ary=np.arange(24.0).reshape(4,6)\n",
    "ary"
   ]
  },
  {
   "cell_type": "code",
   "execution_count": null,
   "id": "700b1c75-639a-40d2-af06-929c12d51fc8",
   "metadata": {},
   "outputs": [],
   "source": [
    "np.hsplit(ary,2)"
   ]
  },
  {
   "cell_type": "markdown",
   "id": "7a0564cc-46bd-4c32-a816-bd5057863289",
   "metadata": {},
   "source": [
    "### Split function"
   ]
  },
  {
   "cell_type": "code",
   "execution_count": 7,
   "id": "97c6c9ba-c0db-4db0-b73e-96bde02197c8",
   "metadata": {},
   "outputs": [
    {
     "data": {
      "text/plain": [
       "[array([10, 11]), array([12, 13, 14, 15]), array([16, 17, 18, 19])]"
      ]
     },
     "execution_count": 7,
     "metadata": {},
     "output_type": "execute_result"
    }
   ],
   "source": [
    "ar1d=[10,11,12,13,14,15,16,17,18,19]\n",
    "np.split(ar1d,[2,6])"
   ]
  },
  {
   "cell_type": "code",
   "execution_count": 8,
   "id": "4d95e4ee-6f0c-4e33-ade5-c2338b34ca4d",
   "metadata": {},
   "outputs": [
    {
     "data": {
      "text/plain": [
       "array([[ 0.,  1.,  2.,  3.,  4.,  5.],\n",
       "       [ 6.,  7.,  8.,  9., 10., 11.],\n",
       "       [12., 13., 14., 15., 16., 17.],\n",
       "       [18., 19., 20., 21., 22., 23.]])"
      ]
     },
     "execution_count": 8,
     "metadata": {},
     "output_type": "execute_result"
    }
   ],
   "source": [
    "ary=np.arange(24.0).reshape(4,6)\n",
    "ary"
   ]
  },
  {
   "cell_type": "code",
   "execution_count": 9,
   "id": "702ef530-669c-4ce6-be5c-2151f0a5cc78",
   "metadata": {},
   "outputs": [
    {
     "data": {
      "text/plain": [
       "[array([[0., 1., 2., 3., 4., 5.]]),\n",
       " array([[ 6.,  7.,  8.,  9., 10., 11.],\n",
       "        [12., 13., 14., 15., 16., 17.],\n",
       "        [18., 19., 20., 21., 22., 23.]]),\n",
       " array([], shape=(0, 6), dtype=float64)]"
      ]
     },
     "execution_count": 9,
     "metadata": {},
     "output_type": "execute_result"
    }
   ],
   "source": [
    "np.split(ary,[1,4])\n",
    "# divided as 0:1 ,1:4,,,4 horizontally(axis=0 becouse skipped)"
   ]
  },
  {
   "cell_type": "code",
   "execution_count": 10,
   "id": "90d42768-f200-4e1a-8adc-9347a455c712",
   "metadata": {},
   "outputs": [
    {
     "data": {
      "text/plain": [
       "[array([[ 0.,  1.],\n",
       "        [ 6.,  7.],\n",
       "        [12., 13.],\n",
       "        [18., 19.]]),\n",
       " array([[ 2.,  3.,  4.],\n",
       "        [ 8.,  9., 10.],\n",
       "        [14., 15., 16.],\n",
       "        [20., 21., 22.]]),\n",
       " array([[ 5.],\n",
       "        [11.],\n",
       "        [17.],\n",
       "        [23.]])]"
      ]
     },
     "execution_count": 10,
     "metadata": {},
     "output_type": "execute_result"
    }
   ],
   "source": [
    "np.split(ary,[2,5],axis=1)\n",
    "# divided as 0:2,2:5,5:vertically(axis=1)"
   ]
  },
  {
   "cell_type": "code",
   "execution_count": 11,
   "id": "87ffb425-c061-4db8-b96c-db2a4ff10b50",
   "metadata": {},
   "outputs": [
    {
     "data": {
      "text/plain": [
       "[array([[0., 1., 2., 3., 4., 5.]]),\n",
       " array([[ 6.,  7.,  8.,  9., 10., 11.]]),\n",
       " array([[12., 13., 14., 15., 16., 17.],\n",
       "        [18., 19., 20., 21., 22., 23.]])]"
      ]
     },
     "execution_count": 11,
     "metadata": {},
     "output_type": "execute_result"
    }
   ],
   "source": [
    "np.split(ary,[1,2])"
   ]
  },
  {
   "cell_type": "code",
   "execution_count": 12,
   "id": "dea618ca-30c0-4e1d-a765-19ca74b108db",
   "metadata": {},
   "outputs": [
    {
     "data": {
      "text/plain": [
       "[array([[ 0.,  1.,  2.,  3.,  4.,  5.],\n",
       "        [ 6.,  7.,  8.,  9., 10., 11.]]),\n",
       " array([[12., 13., 14., 15., 16., 17.],\n",
       "        [18., 19., 20., 21., 22., 23.]]),\n",
       " array([], shape=(0, 6), dtype=float64)]"
      ]
     },
     "execution_count": 12,
     "metadata": {},
     "output_type": "execute_result"
    }
   ],
   "source": [
    "np.split(ary,[2,5],axis=0)"
   ]
  },
  {
   "cell_type": "markdown",
   "id": "2de3de47-502e-4aff-b35b-aefad16bf005",
   "metadata": {},
   "source": [
    "### Extracting Condition Based Non-Contiguous Subsets-"
   ]
  },
  {
   "cell_type": "code",
   "execution_count": 13,
   "id": "f2e256b4-36de-4f01-8e60-4dcff3ab7c2a",
   "metadata": {},
   "outputs": [
    {
     "data": {
      "text/plain": [
       "array([[ 0.,  1.,  2.,  3.,  4.,  5.],\n",
       "       [ 6.,  7.,  8.,  9., 10., 11.],\n",
       "       [12., 13., 14., 15., 16., 17.],\n",
       "       [18., 19., 20., 21., 22., 23.]])"
      ]
     },
     "execution_count": 13,
     "metadata": {},
     "output_type": "execute_result"
    }
   ],
   "source": [
    "ary"
   ]
  },
  {
   "cell_type": "code",
   "execution_count": 14,
   "id": "04a9d32f-0323-4f6f-813c-ca9fd66b7ec8",
   "metadata": {},
   "outputs": [
    {
     "data": {
      "text/plain": [
       "array([[ True, False, False, False, False,  True],\n",
       "       [False, False, False, False,  True, False],\n",
       "       [False, False, False,  True, False, False],\n",
       "       [False, False,  True, False, False, False]])"
      ]
     },
     "execution_count": 14,
     "metadata": {},
     "output_type": "execute_result"
    }
   ],
   "source": [
    "cond=np.mod(ary,5)==0\n",
    "cond"
   ]
  },
  {
   "cell_type": "code",
   "execution_count": 15,
   "id": "6f955e81-5cb3-4106-9345-c834ddf00b43",
   "metadata": {},
   "outputs": [
    {
     "data": {
      "text/plain": [
       "array([[ True, False, False, False, False, False],\n",
       "       [False,  True, False, False, False, False],\n",
       "       [False, False,  True, False, False, False],\n",
       "       [False, False, False,  True, False, False]])"
      ]
     },
     "execution_count": 15,
     "metadata": {},
     "output_type": "execute_result"
    }
   ],
   "source": [
    "cond=np.mod(ary,7)==0\n",
    "cond"
   ]
  },
  {
   "cell_type": "markdown",
   "id": "7716b4bf-5ec1-4d56-9a9e-4b437971cd9b",
   "metadata": {},
   "source": [
    "   ##  Arithmatic Operatin of Numpy Array"
   ]
  },
  {
   "cell_type": "code",
   "execution_count": 24,
   "id": "2d75ec10-7add-4023-8a86-5695b05b1d07",
   "metadata": {},
   "outputs": [
    {
     "data": {
      "text/plain": [
       "array([[ 1.5,  2.5,  3.5,  4.5,  5.5,  6.5],\n",
       "       [ 7.5,  8.5,  9.5, 10.5, 11.5, 12.5],\n",
       "       [13.5, 14.5, 15.5, 16.5, 17.5, 18.5],\n",
       "       [19.5, 20.5, 21.5, 22.5, 23.5, 24.5]])"
      ]
     },
     "execution_count": 24,
     "metadata": {},
     "output_type": "execute_result"
    }
   ],
   "source": [
    "ary+1.5"
   ]
  },
  {
   "cell_type": "markdown",
   "id": "dc63401c-2ce6-425c-bdb8-eca33c07b0f8",
   "metadata": {},
   "source": [
    "## Covariance Of Numpy Array-"
   ]
  },
  {
   "cell_type": "markdown",
   "id": "d8500446-1b7e-4232-ae5f-1ccc9a3d7c20",
   "metadata": {},
   "source": [
    "## 1) Covariance"
   ]
  },
  {
   "cell_type": "code",
   "execution_count": 21,
   "id": "e365324f-9b7f-4d97-afa8-f360aa6da766",
   "metadata": {},
   "outputs": [
    {
     "data": {
      "text/plain": [
       "array([[ 2.5 , -4.25],\n",
       "       [-4.25,  8.3 ]])"
      ]
     },
     "execution_count": 21,
     "metadata": {},
     "output_type": "execute_result"
    }
   ],
   "source": [
    "a=np.array([1,2,3,4,5])\n",
    "b=np.array([3,4,0,-1,-3])\n",
    "check=np.cov(a,b)\n",
    "check"
   ]
  },
  {
   "cell_type": "markdown",
   "id": "92126d1b-7fcc-4b9f-99c7-85c7fa5bada6",
   "metadata": {},
   "source": [
    "## 2) Correlation"
   ]
  },
  {
   "cell_type": "markdown",
   "id": "66dd9fdf-1f12-4c70-ba7f-89d695147cf0",
   "metadata": {},
   "source": [
    "#### Correlation is basically normalized covariance. it gives two values: 1 if the sets  have postive coveriance and -1 if the datasets have negative covariance."
   ]
  },
  {
   "cell_type": "code",
   "execution_count": 23,
   "id": "f4bb187e-d3ed-4185-b7dd-fbe240d20209",
   "metadata": {},
   "outputs": [
    {
     "data": {
      "text/plain": [
       "array([[ 1.        , -0.93299621],\n",
       "       [-0.93299621,  1.        ]])"
      ]
     },
     "execution_count": 23,
     "metadata": {},
     "output_type": "execute_result"
    }
   ],
   "source": [
    "corr=np.corrcoef(a,b)\n",
    "corr"
   ]
  },
  {
   "cell_type": "code",
   "execution_count": null,
   "id": "468b1f6f-995f-42dd-8827-65a576544de4",
   "metadata": {},
   "outputs": [],
   "source": []
  },
  {
   "cell_type": "code",
   "execution_count": null,
   "id": "5ef6d147-0890-4d68-bf3a-66b8d5a2c57c",
   "metadata": {},
   "outputs": [],
   "source": []
  }
 ],
 "metadata": {
  "kernelspec": {
   "display_name": "Python 3 (ipykernel)",
   "language": "python",
   "name": "python3"
  },
  "language_info": {
   "codemirror_mode": {
    "name": "ipython",
    "version": 3
   },
   "file_extension": ".py",
   "mimetype": "text/x-python",
   "name": "python",
   "nbconvert_exporter": "python",
   "pygments_lexer": "ipython3",
   "version": "3.12.7"
  }
 },
 "nbformat": 4,
 "nbformat_minor": 5
}
